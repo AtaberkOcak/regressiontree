{
  "nbformat": 4,
  "nbformat_minor": 0,
  "metadata": {
    "colab": {
      "name": "Building Regression Tree on Python.ipynb",
      "provenance": [],
      "collapsed_sections": [],
      "mount_file_id": "1LGLn40OQVa170LdPc6wWTij9r5BTR4sN",
      "authorship_tag": "ABX9TyOZ1c0DhTTu6nPyHoGlC+T6",
      "include_colab_link": true
    },
    "kernelspec": {
      "name": "python3",
      "display_name": "Python 3"
    },
    "language_info": {
      "name": "python"
    }
  },
  "cells": [
    {
      "cell_type": "markdown",
      "metadata": {
        "id": "view-in-github",
        "colab_type": "text"
      },
      "source": [
        "<a href=\"https://colab.research.google.com/gist/AtaberkOcak/ef3550fba587c0b8ea5cccd6cd7b5335/building-regression-tree-on-python.ipynb\" target=\"_parent\"><img src=\"https://colab.research.google.com/assets/colab-badge.svg\" alt=\"Open In Colab\"/></a>"
      ]
    },
    {
      "cell_type": "markdown",
      "source": [
        "# **Building a Regression Tree on Python**\n",
        "***Ataberk Ocak***\n"
      ],
      "metadata": {
        "id": "lQk8NxT5ZODI"
      }
    },
    {
      "cell_type": "code",
      "execution_count": null,
      "metadata": {
        "id": "PDIuI3e7rqGt"
      },
      "outputs": [],
      "source": [
        "import pandas as pd\n",
        "df=pd.read_csv(\"/content/drive/MyDrive/Hitters.csv\")\n",
        "trainData=df.sample(frac=0.8,random_state=42)\n",
        "testData=df.drop(trainData.index).dropna(subset=['Salary'])"
      ]
    },
    {
      "cell_type": "markdown",
      "source": [
        "In this part, we import the pandas library and our data set. We also divide the data into \"train\" and \"test\". We will train our tree with \"train data\". Then we will calculate the accuracy using \"test data\".\n",
        "Usually the data is split into %80/%20. %80 is \"train data\" and the remaining %20 is \"test data\"."
      ],
      "metadata": {
        "id": "-tBUzJqRLHvP"
      }
    },
    {
      "cell_type": "code",
      "source": [
        "def calcRSS(column,t,target,df):  \n",
        "    trueList=df.dropna(subset=[target]).loc[df[column]<t]\n",
        "    falseList=df.dropna(subset=[target]).loc[df[column]>=t]\n",
        "  \n",
        "    trueListMean=trueList[target].mean()\n",
        "    falseListMean=falseList[target].mean()\n",
        "  \n",
        "    rss=0\n",
        "    rss+=((trueList[target]-trueListMean)**2).sum()\n",
        "    rss+=((falseList[target]-falseListMean)**2).sum()\n",
        "  \n",
        "    return rss"
      ],
      "metadata": {
        "id": "5Jk54gylrx0Q"
      },
      "execution_count": null,
      "outputs": []
    },
    {
      "cell_type": "markdown",
      "source": [
        "The residual sum of squares (RSS) measures the level of variance in the error term, or residuals, of a regression model.\n",
        "The smaller the residual sum of squares, the better your model fits your data; the greater the residual sum of squares, the poorer your model fits your data. If we denote threshold with 't', then 't' starts by taking the value of the lowest element in the data set and then taking the values of the other elements in the data set. We split the data set into \"true list\" and \"false list\" according to threshold, then calculate the RSS."
      ],
      "metadata": {
        "id": "33Bt6JV6NN7w"
      }
    },
    {
      "cell_type": "code",
      "source": [
        "def columnPicker(df):\n",
        "    target='Salary'\n",
        "    best_t=0\n",
        "    bestColumn=''\n",
        "    minRSS=0\n",
        "    columns = df.select_dtypes(include=['integer']).columns\n",
        "\n",
        "    for column in columns:\n",
        "\n",
        "        for t in set(df[column]):\n",
        "\n",
        "            rss = calcRSS(column,t,target,df)\n",
        "      \n",
        "            if minRSS==0:\n",
        "                minRSS=rss\n",
        "\n",
        "            if rss<=minRSS:\n",
        "                minRSS=rss\n",
        "                best_t=t\n",
        "                bestColumn=column\n",
        "  \n",
        "    return bestColumn,best_t,minRSS\n"
      ],
      "metadata": {
        "id": "x_1fazWmr3hd"
      },
      "execution_count": null,
      "outputs": []
    },
    {
      "cell_type": "markdown",
      "source": [
        "In this function, we calculate RSS for all parameters and split the data from the parameter whose RSS is the lowest."
      ],
      "metadata": {
        "id": "IUT2Cr0wNVQw"
      }
    },
    {
      "cell_type": "code",
      "source": [
        "def prediction(testdata, rules, maxDepth):\n",
        "  \n",
        "    if testdata[rules['root'][0]] < rules['root'][1]:\n",
        "        index = 'L'\n",
        "\n",
        "        while len(index) < maxDepth :\n",
        "            \n",
        "            if len(rules[index]) == 3:\n",
        "                return rules[index][2]\n",
        "            \n",
        "            if testdata[rules[index][0]] < rules[index][1]:\n",
        "                index += 'L'\n",
        "            else:\n",
        "                index += 'R'\n",
        "        return rules[index][2]\n",
        "\n",
        "    else:\n",
        "        index = 'R'\n",
        "\n",
        "        while len(index) < maxDepth:\n",
        "            \n",
        "            if len(rules[index]) == 3:\n",
        "                return rules[index][2]\n",
        "      \n",
        "            if testdata[rules[index][0]] < rules[index][1]:\n",
        "                index += 'L'\n",
        "            else:\n",
        "                index += 'R'\n",
        "        return rules[index][2]\n",
        "    return rules[index][2]"
      ],
      "metadata": {
        "id": "mMS69qFvr5BE"
      },
      "execution_count": null,
      "outputs": []
    },
    {
      "cell_type": "markdown",
      "source": [
        "By using \"prediction\" function, after we create our dictionary, we can make predictions for any new data."
      ],
      "metadata": {
        "id": "rZbxISwKOfJM"
      }
    },
    {
      "cell_type": "code",
      "source": [
        "def getSplit(newdf,bestColumn,best_t):\n",
        "    dfTrue = newdf.loc[newdf[bestColumn]<best_t]\n",
        "    dfFalse = newdf.loc[newdf[bestColumn]>=best_t]\n",
        "    \n",
        "    return dfTrue, dfFalse"
      ],
      "metadata": {
        "id": "YDl8qLmhr6HY"
      },
      "execution_count": null,
      "outputs": []
    },
    {
      "cell_type": "markdown",
      "source": [
        "It divides the dataset into two different dataframes as (selected column < threshold) and (selected column >= threshold) according to threshold and the column we choose."
      ],
      "metadata": {
        "id": "iVLonycDPIp2"
      }
    },
    {
      "cell_type": "code",
      "source": [
        "def findAvgSalary(df):\n",
        "    avg=df['Salary'].mean()\n",
        "    return avg"
      ],
      "metadata": {
        "id": "WbPc1qOyr7Kk"
      },
      "execution_count": null,
      "outputs": []
    },
    {
      "cell_type": "markdown",
      "source": [
        "Function where we find the average salary."
      ],
      "metadata": {
        "id": "ZnodpvlmP17p"
      }
    },
    {
      "cell_type": "code",
      "source": [
        "def fixIndex(index,depth):\n",
        "    return index[:depth]"
      ],
      "metadata": {
        "id": "YekGVycJr8eO"
      },
      "execution_count": null,
      "outputs": []
    },
    {
      "cell_type": "markdown",
      "source": [
        "A function to edit the string we use once in the 'treeBuilder' function."
      ],
      "metadata": {
        "id": "xHBkLYMUQG5b"
      }
    },
    {
      "cell_type": "code",
      "source": [
        "def treeBuilder(newdf,bestColumn,best_t,minRSS,maxDepth,minSize,depth,rules,index=\"\"):\n",
        "    dfTrue, dfFalse = getSplit(newdf, bestColumn, best_t)\n",
        "    \n",
        "    controller=False\n",
        "    \n",
        "    if depth > maxDepth:\n",
        "        return\n",
        "    else:\n",
        "        if len(dfFalse)<=minSize or len(dfTrue)<=minSize:\n",
        "            controllerColumn=bestColumn\n",
        "            controllerThreshold=best_t\n",
        "            controller=True           \n",
        "            \n",
        "        if len(dfTrue) <= minSize:\n",
        "            avg = findAvgSalary(dfTrue)\n",
        "            rules[index+\"L\"]=bestColumn,best_t,avg\n",
        "        else:\n",
        "            index+=\"L\"\n",
        "            bestColumn,best_t,minRSS=columnPicker(dfTrue)\n",
        "            \n",
        "            if len(index) == maxDepth:\n",
        "                rules[index] = bestColumn, best_t, findAvgSalary(dfTrue)\n",
        "            else:\n",
        "                rules[index] = bestColumn, best_t\n",
        "                \n",
        "            \n",
        "            \n",
        "            treeBuilder(dfTrue ,bestColumn,best_t, minRSS,maxDepth,minSize, depth+1,rules,index)\n",
        "        \n",
        "        if len(index) >= depth:\n",
        "            index=fixIndex(index,depth-1)\n",
        "        \n",
        "        if len(dfFalse) <= minSize:\n",
        "            avg = findAvgSalary(dfFalse)\n",
        "                  \n",
        "            \n",
        "            if controller==True:\n",
        "                rules[index+\"R\"]=controllerColumn,controllerThreshold,avg\n",
        "                controller==False\n",
        "            else:\n",
        "                rules[index+\"R\"]=bestColumn,best_t,avg\n",
        "        else:\n",
        "            index+=\"R\"\n",
        "            bestColumn,best_t,minRSS = columnPicker(dfFalse)\n",
        "            \n",
        "            if len(index) == maxDepth:\n",
        "                rules[index] = bestColumn, best_t, findAvgSalary(dfTrue)\n",
        "            else:\n",
        "                rules[index] = bestColumn, best_t\n",
        "                \n",
        "            treeBuilder(dfFalse ,bestColumn,best_t, minRSS, maxDepth, minSize, depth+1,rules,index)\n",
        "    \n",
        "    \n",
        "        \n",
        "    return rules"
      ],
      "metadata": {
        "id": "zIktJtFSr9ab"
      },
      "execution_count": null,
      "outputs": []
    },
    {
      "cell_type": "markdown",
      "source": [
        "If the condition of any feature is met (i.e. \"True\"), that feature will be registered as \"L\" in the dictionary. If not provided (i.e. \"False\"), this time it will be saved as \"R\" in the dictionary. After each separation, it will take an L or R in addition to its previous name in the dictionary, depending on whether it is True or False."
      ],
      "metadata": {
        "id": "1ZhN15SwQhBo"
      }
    },
    {
      "cell_type": "code",
      "source": [
        "def buildTree(trainData, maxDepth):\n",
        "    rules={}\n",
        "    bestColumn,best_t,minRSS = columnPicker(trainData)\n",
        "    rules['root']=bestColumn,best_t\n",
        "    rules = treeBuilder(trainData ,bestColumn,best_t, minRSS, maxDepth, 7, 1, rules)\n",
        "    \n",
        "    return rules"
      ],
      "metadata": {
        "id": "gHFSAAtFr-di"
      },
      "execution_count": null,
      "outputs": []
    },
    {
      "cell_type": "markdown",
      "source": [
        "Here we define a dictionary called \"rules\". We will save the tree we have built in this dictionary."
      ],
      "metadata": {
        "id": "zGRC0UaTRSG_"
      }
    },
    {
      "cell_type": "code",
      "source": [
        "def accuracy(trainData, testData, target, rules, maxDepth):\n",
        "\n",
        "        predictionValues=[]\n",
        "        rss=0\n",
        "\n",
        "        for i in testData.index:\n",
        "\n",
        "            predictionValues.append((prediction(testData.loc[i], rules, maxDepth), testData.loc[i][target]))\n",
        "\n",
        "        for i in predictionValues:\n",
        "\n",
        "            rss += ((i[0] - i[1])**2)/len(testData) \n",
        "\n",
        "        return rss"
      ],
      "metadata": {
        "id": "Upntb9V0r_hv"
      },
      "execution_count": null,
      "outputs": []
    },
    {
      "cell_type": "markdown",
      "source": [
        "In this function, we test the tree which we trained with Train data. But while testing, we using the test data. Then we find the accuracy according to the test data. To make this calculation we use Residual Sum of Squares."
      ],
      "metadata": {
        "id": "5roUCb39RnK9"
      }
    },
    {
      "cell_type": "code",
      "source": [
        "def findMaxDepth(depth):\n",
        "    testRssList=[]\n",
        "    trainRssList=[]\n",
        "    depthList=[]\n",
        "    \n",
        "    while depth<15:\n",
        "        rules = buildTree(trainData, depth)\n",
        "        rssTest = accuracy(trainData, testData, 'Salary', rules, depth)\n",
        "        rssTrain = accuracy(trainData.dropna(), trainData.dropna(), 'Salary', rules, depth)\n",
        "        testRssList.append(rssTest)\n",
        "        trainRssList.append(rssTrain)\n",
        "        depthList.append(depth)\n",
        "        depth += 1\n",
        "        \n",
        "        \n",
        "        \n",
        "      \n",
        "    return testRssList, trainRssList, depthList"
      ],
      "metadata": {
        "id": "EYH9ZuhJsA58"
      },
      "execution_count": null,
      "outputs": []
    },
    {
      "cell_type": "markdown",
      "source": [
        "In this function, we finding the ideal depth according to accuracy of test data."
      ],
      "metadata": {
        "id": "TJpn6r6tScOC"
      }
    },
    {
      "cell_type": "code",
      "source": [
        "testRssList, trainRssList, depthList = findMaxDepth(1)\n",
        "minValue = min(testRssList)\n",
        "maxDepth = testRssList.index(minValue)+1"
      ],
      "metadata": {
        "id": "i1_woYfXsCLp"
      },
      "execution_count": null,
      "outputs": []
    },
    {
      "cell_type": "markdown",
      "source": [
        "The function where we find the max depth."
      ],
      "metadata": {
        "id": "g7om3GrlTIRQ"
      }
    },
    {
      "cell_type": "code",
      "source": [
        "print(\"Maximum Depth:\", maxDepth)\n",
        "testRssList"
      ],
      "metadata": {
        "colab": {
          "base_uri": "https://localhost:8080/"
        },
        "id": "ZdB7N7vvS-mZ",
        "outputId": "9fd35a47-c290-4af1-bc20-9985d58bdbca"
      },
      "execution_count": null,
      "outputs": [
        {
          "output_type": "stream",
          "name": "stdout",
          "text": [
            "Maximum Depth: 9\n"
          ]
        },
        {
          "output_type": "execute_result",
          "data": {
            "text/plain": [
              "[269083.0540821699,\n",
              " 137061.2767400764,\n",
              " 397504.4409957976,\n",
              " 461832.4747858988,\n",
              " 172175.65521225403,\n",
              " 144828.0127307206,\n",
              " 154185.9714849969,\n",
              " 136357.00371440983,\n",
              " 135523.8982158761,\n",
              " 138496.1563264122,\n",
              " 146511.8547277303,\n",
              " 136225.53413979738,\n",
              " 136612.40520897976,\n",
              " 136612.40520897976]"
            ]
          },
          "metadata": {},
          "execution_count": 63
        }
      ]
    },
    {
      "cell_type": "markdown",
      "source": [
        "As can be seen, the lowest RSS was reached at 9 depth.\n",
        "\n",
        "\n"
      ],
      "metadata": {
        "id": "UF1b_wSZTZmv"
      }
    },
    {
      "cell_type": "code",
      "source": [
        "import matplotlib.pyplot as plt\n",
        "plt.figure(figsize=(13,7))\n",
        "plt.plot(depthList,testRssList,color=\"b\",linewidth=3)\n",
        "plt.plot(depthList, trainRssList, color=\"r\",linewidth=3)\n",
        "plt.text(6.8, 450000,\"Test\",color='b',fontsize=15)\n",
        "plt.text(6.8, 420000,\"Train\",color='r',fontsize=15)\n",
        "\n",
        "plt.xlabel(\"Depth\",fontsize=10)\n",
        "plt.ylabel(\"RSS\",fontsize=10)"
      ],
      "metadata": {
        "id": "FOazRFAusLZK",
        "colab": {
          "base_uri": "https://localhost:8080/",
          "height": 461
        },
        "outputId": "4632e2f7-b9d9-49f8-8fb0-86c98b905408"
      },
      "execution_count": null,
      "outputs": [
        {
          "output_type": "execute_result",
          "data": {
            "text/plain": [
              "Text(0, 0.5, 'RSS')"
            ]
          },
          "metadata": {},
          "execution_count": 47
        },
        {
          "output_type": "display_data",
          "data": {
            "image/png": "[encoded data removed]",
            "text/plain": [
              "<Figure size 936x504 with 1 Axes>"
            ]
          },
          "metadata": {
            "needs_background": "light"
          }
        }
      ]
    },
    {
      "cell_type": "markdown",
      "source": [
        "As we can see in the chart, the ideal depth is 9. After depth 9 the graph increases and stops changing as it satisfies the minimum size requirement."
      ],
      "metadata": {
        "id": "LHRvgRMkTjEa"
      }
    },
    {
      "cell_type": "code",
      "source": [
        "def bagging(trainData, lastDepth):\n",
        "  rssList = []\n",
        "  \n",
        "  for depth in range(1,lastDepth+1):\n",
        "    \n",
        "    rss = 0\n",
        "    baggingPredictionList = []\n",
        "    \n",
        "    for i in range(10):\n",
        "      pruningData = trainData.sample(frac=0.3).dropna(subset=['Salary'])\n",
        "      rules = buildTree(pruningData, depth)\n",
        "      baggingPredictionList = baggingListCreater(testData, rules, depth, i, baggingPredictionList)\n",
        "    \n",
        "    result = [element/10 for element in baggingPredictionList]\n",
        "    predictionValues = []\n",
        "    k=0\n",
        "    \n",
        "    for j in testData.index:\n",
        "\n",
        "      predictionValues.append((result[k],testData.loc[j]['Salary']))\n",
        "      k+=1\n",
        "    \n",
        "    for i in predictionValues:\n",
        "\n",
        "      rss += ((i[0] - i[1])**2)/len(testData.dropna(subset=['Salary'])) \n",
        "    \n",
        "    rssList.append(rss)\n",
        "    \n",
        "  return predictionValues, rssList"
      ],
      "metadata": {
        "id": "02YdFaS1sNJ7"
      },
      "execution_count": null,
      "outputs": []
    },
    {
      "cell_type": "markdown",
      "source": [
        "Function that implements the 'Bagging' method, which is a pruning method. Using 30% of the train data, 10 different trees are created with random data each time. Then the test data is passed through these trees and the results are obtained. The obtained results are averaged and the RSS values of the trees we create between 1 and 14 depths are calculated."
      ],
      "metadata": {
        "id": "b_q3dS8bUQxP"
      }
    },
    {
      "cell_type": "code",
      "source": [
        "def baggingListCreater(testData, rules, maxDepth, k, baggingPredictionList, t=0):\n",
        "  \n",
        "  if k == 0:\n",
        "\n",
        "    for i in testData.index:\n",
        "      baggingPredictionList.append(prediction(testData.loc[i], rules, maxDepth))\n",
        "  \n",
        "  else:\n",
        "    \n",
        "    for j in testData.index:\n",
        "\n",
        "      \n",
        "      baggingPredictionList[t] = baggingPredictionList[t] + prediction(testData.loc[j], rules, maxDepth)\n",
        "      t+=1\n",
        "  return baggingPredictionList"
      ],
      "metadata": {
        "id": "8URGdjzZsOGm"
      },
      "execution_count": null,
      "outputs": []
    },
    {
      "cell_type": "markdown",
      "source": [
        "Function to sum and save the results we found while doing the bagging process."
      ],
      "metadata": {
        "id": "jePuyqtRVAL7"
      }
    },
    {
      "cell_type": "code",
      "source": [
        "lastDepth = 14\n",
        "predictionValues, rssList = bagging(trainData, lastDepth)"
      ],
      "metadata": {
        "id": "nW7uXNvRsPJm"
      },
      "execution_count": null,
      "outputs": []
    },
    {
      "cell_type": "code",
      "source": [
        "depthList = [i for i in range(1,lastDepth+1)]\n",
        "import matplotlib.pyplot as plt\n",
        "plt.figure(figsize=(10,7))\n",
        "plt.plot(depthList,rssList,color=\"b\",linewidth=3)\n",
        "plt.xlabel(\"Depth\",fontsize=10)\n",
        "plt.ylabel(\"RSS\",fontsize=10)"
      ],
      "metadata": {
        "colab": {
          "base_uri": "https://localhost:8080/",
          "height": 461
        },
        "id": "NCvHyjupsQND",
        "outputId": "06e415be-cfdf-4fcb-eb13-86c6c7f28e3f"
      },
      "execution_count": null,
      "outputs": [
        {
          "output_type": "execute_result",
          "data": {
            "text/plain": [
              "Text(0, 0.5, 'RSS')"
            ]
          },
          "metadata": {},
          "execution_count": 65
        },
        {
          "output_type": "display_data",
          "data": {
            "image/png": "[encoded data removed]",
            "text/plain": [
              "<Figure size 720x504 with 1 Axes>"
            ]
          },
          "metadata": {
            "needs_background": "light"
          }
        }
      ]
    },
    {
      "cell_type": "markdown",
      "source": [
        "The RSS data of the model we are used bagging on. According to the result given in the test data, the most suitable model is reached at 10 depths. It is seen that the RSS increases continuously after the depth of 10. "
      ],
      "metadata": {
        "id": "sqIPZVRrVTgK"
      }
    },
    {
      "cell_type": "code",
      "source": [
        "rssList"
      ],
      "metadata": {
        "id": "2a3cyi1asWIq",
        "colab": {
          "base_uri": "https://localhost:8080/"
        },
        "outputId": "ad7a3644-4e5b-44c5-f764-2b028aa4a575"
      },
      "execution_count": null,
      "outputs": [
        {
          "output_type": "execute_result",
          "data": {
            "text/plain": [
              "[225437.05370028608,\n",
              " 151104.3794075274,\n",
              " 120463.89764484168,\n",
              " 113182.35121408133,\n",
              " 103107.59407703202,\n",
              " 103916.07961844621,\n",
              " 124944.42955708136,\n",
              " 115841.96319906531,\n",
              " 119821.66807909461,\n",
              " 98805.18387360749,\n",
              " 106437.95318298475,\n",
              " 105879.37181170304,\n",
              " 105765.6359971428,\n",
              " 122504.28403948084]"
            ]
          },
          "metadata": {},
          "execution_count": 56
        }
      ]
    },
    {
      "cell_type": "markdown",
      "source": [
        "Here we can see the RSS values. Let's compare the lowest RSS of our model before bagging with the lowest RSS of our model with bagging. While the RSS of our first model is 135523, the RSS of the model we used pruning on is 98805. As can be seen, the variance of the pruning model has decreased. In this way, it has become a model that makes more accurate predictions. "
      ],
      "metadata": {
        "id": "iA1PS6IJVpgk"
      }
    }
  ]
}